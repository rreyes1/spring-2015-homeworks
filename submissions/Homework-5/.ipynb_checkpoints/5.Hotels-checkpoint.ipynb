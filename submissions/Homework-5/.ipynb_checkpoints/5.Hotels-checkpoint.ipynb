{
 "metadata": {
  "name": "",
  "signature": "sha256:714d5ed77a8b41c87ab66e884f3d9975d63d5ea2c1b5a8189a9bb10e8e880d30"
 },
 "nbformat": 3,
 "nbformat_minor": 0,
 "worksheets": [
  {
   "cells": [
    {
     "cell_type": "markdown",
     "metadata": {},
     "source": [
      "(In order to load the stylesheet of this notebook, execute the last code cell in this notebook)"
     ]
    },
    {
     "cell_type": "heading",
     "level": 1,
     "metadata": {},
     "source": [
      "Analyzing hotel ratings on Tripadvisor"
     ]
    },
    {
     "cell_type": "markdown",
     "metadata": {},
     "source": [
      "In this homework we will focus on practicing two techniques: web scraping and regression. For the first part, we will build upon the sample code from the Lecture and attempt to get some basic information for each hotel. Then, we will fit a regression model on this information and try to analyze it.   "
     ]
    },
    {
     "cell_type": "markdown",
     "metadata": {},
     "source": [
      "One of the main disadvantages of scraping a website instead of using an API is that, without any notice, the website may change its layout and render our code useless. Something like that happened in our case. Tripadvisor changed the layout of the buttons that we use to navigate between the different pages of the results. This was the main reason people were having problem with executing the code."
     ]
    },
    {
     "cell_type": "markdown",
     "metadata": {},
     "source": [
      "**Task 1 (20 pts)**\n",
      "\n",
      "The first task of the homework is to fix the scraping code. We basically need to replace the part where we are checking if there is another page and getting its link with new code that reflects the new navigation layout. "
     ]
    },
    {
     "cell_type": "markdown",
     "metadata": {},
     "source": [
      "** Task 2 (30 pts)**\n",
      "\n",
      "Then, for each hotel that our search returns, we will \"click\" (with the code of course) on it and scrape the information below.\n",
      "\n",
      "![Information to be scraped](hotel_info.png)\n",
      "\n",
      "Of course, feel free to collect even more data if you want. "
     ]
    },
    {
     "cell_type": "markdown",
     "metadata": {},
     "source": [
      "** Task 3 (20 pts) **\n",
      "\n",
      "Now, we will use regression to analyze this information. First, we will fit a linear regression model that predicts the average rating. For example, for the hotel above, the average rating is\n",
      "\n",
      "$$ \\text{AVG_SCORE} = \\frac{1*31 + 2*33 + 3*98 + 4*504 + 5*1861}{2527}$$\n",
      "\n",
      "Use the model to analyze the important factors that decide the $\\text{AVG_SCORE}$."
     ]
    },
    {
     "cell_type": "markdown",
     "metadata": {},
     "source": [
      "** Task 4 (30 pts) **\n",
      "\n",
      "Finally, we will use logistic regression to decide if a hotel is _excellent_ or not. We classify a hotel as _excellent_ if more than **60%** of its ratings are 5 stars. This is a binary attribute on which we can fit a logistic regression model. As before, use the model to analyze the data.\n",
      "\n",
      "-------"
     ]
    },
    {
     "cell_type": "markdown",
     "metadata": {},
     "source": [
      "In order to use code from a Python script file, we need to put that file in the same folder as the notebook and import it as a library. Then, we will be able to access it's functions. For example, in the case of the lecture code, we could do the following:\n",
      "\n",
      "``` python\n",
      "import scrape_solution as scrape\n",
      "\n",
      "scrape.get_city_page()\n",
      "```\n",
      "\n",
      "Of course, you might need to modify and restructure the code so that it returns what you need."
     ]
    },
    {
     "cell_type": "markdown",
     "metadata": {},
     "source": [
      "----"
     ]
    },
    {
     "cell_type": "code",
     "collapsed": false,
     "input": [
      "import os\n",
      "import sys\n",
      "import time\n",
      "import argparse\n",
      "import logging\n",
      "import requests\n",
      "from BeautifulSoup import BeautifulSoup\n",
      "from collections import defaultdict  # available in Python 2.5 and newer\n"
     ],
     "language": "python",
     "metadata": {},
     "outputs": [],
     "prompt_number": 91
    },
    {
     "cell_type": "code",
     "collapsed": false,
     "input": [
      "def parse_hotellist_page(html1):\n",
      "    soup = BeautifulSoup(html1)\n",
      "    hotel_boxes = soup.findAll('div', {'class' :'listing wrap reasoning_v5_wrap jfy_listing p13n_imperfect'})\n",
      "    if not hotel_boxes:\n",
      "        hotel_boxes = soup.findAll('div', {'class' :'listing_info jfy'})\n",
      "    if not hotel_boxes:\n",
      "        hotel_boxes = soup.findAll('div', {'class' :'listing easyClear  p13n_imperfect'})\n",
      "    for hotel_box in hotel_boxes:\n",
      "        hotel_name = hotel_box.find(\"a\", {\"target\" : \"_blank\"}).find(text=True)\n",
      "#        print(\"Hotel name: %s\" % hotel_name.strip())\n",
      "        stars = hotel_box.find(\"img\", {\"class\" : \"sprite-ratings\"})\n",
      "        n_stars = stars['alt'].split()[0]\n",
      "#        if stars:\n",
      "#            print(\"Stars: %s\" % stars['alt'].split()[0])\n",
      "        num_reviews = hotel_box.find(\"span\", {'class': \"more\"}).findAll(text=True)\n",
      "        n_reviews = [x for x in num_reviews if \"review\" in x][0].strip()\n",
      "#        if num_reviews:\n",
      "#            print(\"Number of reviews: %s \" % [x for x in num_reviews if \"review\" in x][0].strip())\n",
      "        if hotel_name.strip() in hotel_names:\n",
      "            print \"duplicate\"\n",
      "\n",
      "        hotel_names[hotel_name.strip()] = n_stars, n_reviews"
     ],
     "language": "python",
     "metadata": {},
     "outputs": [],
     "prompt_number": 226
    },
    {
     "cell_type": "code",
     "collapsed": false,
     "input": [
      "def get_page_links(html1):\n",
      "    soup = BeautifulSoup(html1)\n",
      "    div1 = soup.find(\"span, {\"class\":\"pageCount\"})\n",
      "    div = soup.find(\"div\", {\"class\" : \"pgLinks\"}) # or pgLinks\n",
      "    # check if this is the last page\n",
      "    if div.find('span', {'class' : 'guiArw pageEndNext'}):\n",
      "        return ;\n",
      "        print \"we reached the end\"\n",
      "    else:\n",
      "        hrefs_html = div.findAll('a', href= True)\n",
      "        hrefs = set()\n",
      "        for href in hrefs_html:\n",
      "            link = href['href']\n",
      "            hrefs.add(link)\n",
      "        return hrefs"
     ],
     "language": "python",
     "metadata": {},
     "outputs": [],
     "prompt_number": 221
    },
    {
     "cell_type": "code",
     "collapsed": false,
     "input": [
      "city = \"bosotn\"\n",
      "state = \"massachusetts\"\n",
      "base_url = \"http://www.tripadvisor.com/Hotels\"\n",
      "#url = base_url + \"city=\" + city + \"&state=\" + state\n",
      "url1 = \"http://www.tripadvisor.com/Hotels-g60745-Boston_Massachusetts-Hotels.html#ACCOM_OVERVIEW\"\n",
      "user_agent = \"Mozilla/5.0 (Macintosh; Intel Mac OS X 10_10_2) AppleWebKit/537.36 (KHTML, like Gecko) Chrome/41.0.2272.76 Safari/537.36\"\n",
      "headers = {'User-Agent': user_agent}\n",
      "response = requests.get(url1, headers=headers)\n",
      "html = response.text.encode('utf-8')\n",
      "hotel_names = {}\n",
      "hrefs = get_page_links(html)\n",
      "hrefs.add(\"/Hotels-g60745-Boston_Massachusetts-Hotels.html#ACCOM_OVERVIEW\")\n",
      "for i in hrefs:\n",
      "    url = base_url + i\n",
      "    print url\n",
      "    response = requests.get(url, headers=headers)\n",
      "    time.sleep(2)\n",
      "    html = response.text.encode('utf-8')\n",
      "    if response != 200:\n",
      "        print \"not 200\"\n",
      "        html = response.text.encode('utf-8')\n",
      "    parse_hotellist_page(html)\n",
      "print len(hotel_names)\n",
      "for i in hotel_names:\n",
      "    print i, hotel_names[i]\n"
     ],
     "language": "python",
     "metadata": {},
     "outputs": [
      {
       "output_type": "stream",
       "stream": "stdout",
       "text": [
        "http://www.tripadvisor.com/Hotels/Hotels-g60745-oa60-Boston_Massachusetts-Hotels.html#ACCOM_OVERVIEW\n",
        "not 200"
       ]
      },
      {
       "output_type": "stream",
       "stream": "stdout",
       "text": [
        "\n",
        "http://www.tripadvisor.com/Hotels/Hotels-g60745-Boston_Massachusetts-Hotels.html#ACCOM_OVERVIEW"
       ]
      },
      {
       "output_type": "stream",
       "stream": "stdout",
       "text": [
        "\n",
        "not 200"
       ]
      },
      {
       "output_type": "stream",
       "stream": "stdout",
       "text": [
        "\n",
        "duplicate"
       ]
      },
      {
       "output_type": "stream",
       "stream": "stdout",
       "text": [
        "\n",
        "http://www.tripadvisor.com/Hotels/Hotels-g60745-oa30-Boston_Massachusetts-Hotels.html#ACCOM_OVERVIEW\n",
        "not 200"
       ]
      },
      {
       "output_type": "stream",
       "stream": "stdout",
       "text": [
        "\n",
        "duplicate"
       ]
      },
      {
       "output_type": "stream",
       "stream": "stdout",
       "text": [
        "\n",
        "duplicate\n",
        "duplicate\n",
        "duplicate\n",
        "duplicate\n",
        "duplicate\n",
        "duplicate\n",
        "duplicate\n",
        "duplicate"
       ]
      },
      {
       "output_type": "stream",
       "stream": "stdout",
       "text": [
        "\n",
        "duplicate\n",
        "duplicate\n",
        "duplicate\n",
        "64"
       ]
      },
      {
       "output_type": "stream",
       "stream": "stdout",
       "text": [
        "\n",
        "Hotel Commonwealth (u'4.5', u'2,930 reviews')\n",
        "The Fairmont Copley Plaza, Boston (u'4.5', u'1,603 reviews')\n",
        "Lenox Hotel (u'4.5', u'2,557 reviews')\n",
        "The Boston Common Hotel and Conference Center (u'3.5', u'436 reviews')\n",
        "Nine Zero Hotel - a Kimpton Hotel (u'4.5', u'1,822 reviews')\n",
        "DoubleTree Club by Hilton Hotel Boston Bayside (u'4', u'945 reviews')\n",
        "Hampton Inn & Suites Boston Crosstown Center (u'4', u'563 reviews')\n",
        "Ramada Boston (u'3', u'916 reviews')\n",
        "InterContinental Boston (u'4.5', u'1,891 reviews')\n",
        "Boston Park Plaza (u'3.5', u'4,161 reviews')\n",
        "enVision Hotel Boston (u'4.5', u'354 reviews')\n",
        "Chandler Inn (u'4', u'857 reviews')\n",
        "DoubleTree Suites by Hilton Boston-Cambridge (u'4', u'1,061 reviews')\n",
        "Boston Harbor Hotel (u'4.5', u'1,248 reviews')\n",
        "Boston Marriott Copley Place (u'4', u'2,037 reviews')\n",
        "Marriott's Custom House (u'4.5', u'558 reviews')\n",
        "The Inn At St Botolph (u'4.5', u'429 reviews')\n",
        "Sheraton Boston Hotel (u'4', u'525 reviews')\n",
        "Hilton Boston Downtown / Faneuil Hall (u'4', u'863 reviews')\n",
        "W Boston (u'4', u'861 reviews')\n",
        "Revere Hotel Boston Common (u'4.5', u'1,938 reviews')\n",
        "The Verb Hotel (u'4.5', u'240 reviews')\n",
        "Days Hotel Boston (u'3', u'189 reviews')\n",
        "Hyatt Regency Boston (u'4', u'1,919 reviews')\n",
        "Newbury Guest House (u'4', u'435 reviews')\n",
        "Hyatt Boston Harbor (u'4', u'1,163 reviews')\n",
        "The Langham, Boston (u'4.5', u'1,405 reviews')\n",
        "The Westin Boston Waterfront (u'4', u'1,613 reviews')\n",
        "Courtyard Boston Downtown (u'3', u'803 reviews')\n",
        "Hotel 140 (u'4', u'961 reviews')\n",
        "Club Quarters Boston (u'4', u'1,048 reviews')\n",
        "The Liberty Hotel (u'4', u'741 reviews')\n",
        "The Ritz-Carlton Boston Common (u'4.5', u'511 reviews')\n",
        "Copley Square Hotel (u'4.5', u'1,041 reviews')\n",
        "Courtyard by Marriott Boston Logan Airport (u'3.5', u'428 reviews')\n",
        "Embassy Suites Boston Logan Airport (u'4', u'1,315 reviews')\n",
        "Wyndham Boston Beacon Hill (u'4', u'1,033 reviews')\n",
        "Ames Boston Hotel (u'4.5', u'866 reviews')\n",
        "DoubleTree by Hilton Hotel Boston - Downtown (u'4', u'463 reviews')\n",
        "Loews Boston Hotel (u'4.5', u'763 reviews')\n",
        "Mandarin Oriental, Boston (u'4.5', u'405 reviews')\n",
        "Hilton Boston Logan Airport (u'4', u'1,961 reviews')\n",
        "Comfort Inn - Boston (u'3.5', u'286 reviews')\n",
        "Charlesmark Hotel (u'4', u'753 reviews')\n",
        "The Inn at Longwood Medical (u'4', u'684 reviews')\n",
        "Americas Best Value Inn (u'2.5', u'18 reviews')\n",
        "The Westin Copley Place (u'4', u'2,300 reviews')\n",
        "The Midtown Hotel (u'3.5', u'1,361 reviews')\n",
        "Omni Parker House (u'4', u'4,432 reviews')\n",
        "Hilton Boston Back Bay (u'4', u'1,700 reviews')\n",
        "Holiday Inn Express Boston (u'4', u'535 reviews')\n",
        "Milner Hotel (u'3', u'368 reviews')\n",
        "Residence Inn Boston Back Bay / Fenway (u'4.5', u'515 reviews')\n",
        "Millennium Bostonian Hotel (u'4', u'1,015 reviews')\n",
        "Harborside Inn (u'4', u'1,031 reviews')\n",
        "Courtyard Boston-South Boston (u'4', u'342 reviews')\n",
        "Beacon Hill Hotel and Bistro (u'4', u'143 reviews')\n",
        "Constitution Inn (u'3', u'410 reviews')\n",
        "Renaissance Boston Waterfront Hotel (u'4', u'871 reviews')\n",
        "Courtyard by Marriott Boston Copley Square (u'4.5', u'960 reviews')\n",
        "Taj Boston (u'4', u'1,140 reviews')\n",
        "Copley House (u'3.5', u'379 reviews')\n",
        "Seaport Boston Hotel (u'4.5', u'2,529 reviews')\n",
        "Residence Inn Boston Downtown Seaport (u'4.5', u'232 reviews')\n"
       ]
      }
     ],
     "prompt_number": 229
    },
    {
     "cell_type": "code",
     "collapsed": false,
     "input": [
      "dict1 = {}\n",
      "dict1['hotel name'] = 3,12\n",
      "print dict1"
     ],
     "language": "python",
     "metadata": {},
     "outputs": [
      {
       "output_type": "stream",
       "stream": "stdout",
       "text": [
        "{'hotel name': (3, 12)}\n"
       ]
      }
     ],
     "prompt_number": 196
    },
    {
     "cell_type": "code",
     "collapsed": false,
     "input": [
      "def get_hotellist_page(city_url, page_count):\n",
      "    url = base_url + city_url\n",
      "    time.sleep(2)\n",
      "    # Request page\n",
      "    headers = { 'User-Agent' : user_agent }\n",
      "    response = requests.get(url, headers=headers)\n",
      "    html = response.text.encode('utf-8')"
     ],
     "language": "python",
     "metadata": {},
     "outputs": [],
     "prompt_number": 129
    },
    {
     "cell_type": "code",
     "collapsed": false,
     "input": [],
     "language": "python",
     "metadata": {},
     "outputs": [],
     "prompt_number": 128
    },
    {
     "cell_type": "code",
     "collapsed": false,
     "input": [
      "soup = BeautifulSoup(html)\n",
      "soup.findAll('a');\n",
      "\n",
      "#hotels = set();\n",
      "hotels = defaultdict(int)\n",
      "names = set()\n",
      "\n",
      "for link in soup.findAll('a'):\n",
      "    href = link.get('href')\n",
      "    href = str(href)\n",
      "    if href.find('Reviews') > 27: #hardcode, hotels in \n",
      "        hotels[href] += 1\n",
      "\n",
      "for i in hotels:\n",
      "    if hotels[i] >= 2: #hardcode, \n",
      "        #        print i[ix_start:ix_end]\n",
      "#ex: Hotel_Review-g60745-d121009-Reviews-Holiday_Inn_Express_Boston-Boston_Massachusetts.html\n",
      "        ix_start = i.find('Reviews-') + len('Reviews-')\n",
      "        ix_end = i.find('-Boston_Mass')\n",
      "        names.add(i[ix_start:ix_end].replace(\"_\",\" \"))"
     ],
     "language": "python",
     "metadata": {},
     "outputs": [],
     "prompt_number": 125
    },
    {
     "cell_type": "code",
     "collapsed": false,
     "input": [
      "for i in names:\n",
      "    print i"
     ],
     "language": "python",
     "metadata": {},
     "outputs": [
      {
       "output_type": "stream",
       "stream": "stdout",
       "text": [
        "Colonnade Hotel\n",
        "Residence Inn by Marriott Boston Harbor on Tudor Wharf\n",
        "The Boston Common Hotel and Conference Center\n",
        "DoubleTree Club by Hilton Hotel Boston Bayside\n",
        "Boston Hotel Buckminster\n",
        "Ramada Boston\n",
        "Chandler Inn\n",
        "Mandarin Oriental Boston\n",
        "Hilton Boston Logan Airport\n",
        "XV Beacon\n",
        "Hyatt Regency Boston\n",
        "Newbury Guest House\n",
        "Hotel 140\n",
        "Club Quarters Boston\n",
        "DoubleTree by Hilton Hotel Boston Downtown\n",
        "Battery Wharf Hotel Boston Waterfront\n",
        "DoubleTree Suites by Hilton Boston Cambridge\n",
        "Ames Boston Hotel\n",
        "Boston Marriott Copley Place\n",
        "Eliot Hotel\n",
        "Four Seasons Hotel Boston\n",
        "Charlesmark Hotel\n",
        "Hilton Boston Downtown Faneuil Hall\n",
        "Boston Marriott Long Wharf\n",
        "BEST WESTERN University Hotel Boston Brighton\n",
        "The Westin Boston Waterfront\n",
        "Hampton Inn Suites Boston Crosstown Center\n",
        "Onyx Hotel a Kimpton Hotel\n",
        "Copley House\n",
        "Residence Inn Boston Downtown Seaport\n"
       ]
      }
     ],
     "prompt_number": 126
    },
    {
     "cell_type": "code",
     "collapsed": false,
     "input": [
      "# Code for setting the style of the notebook\n",
      "from IPython.core.display import HTML\n",
      "def css_styling():\n",
      "    styles = open(\"../../theme/custom.css\", \"r\").read()\n",
      "    return HTML(styles)\n",
      "css_styling()"
     ],
     "language": "python",
     "metadata": {},
     "outputs": [
      {
       "html": [
        "<link href='http://fonts.googleapis.com/css?family=EB+Garamond' rel='stylesheet' type='text/css'>\n",
        "<link href='http://fonts.googleapis.com/css?family=Alegreya+Sans:100,300,400,500,700,800,900,100italic,300italic,400italic,500italic,700italic,800italic,900italic' rel='stylesheet' type='text/css'>\n",
        "<link href='http://fonts.googleapis.com/css?family=Source+Code+Pro:300,400' rel='stylesheet' type='text/css'>\n",
        "<style>\n",
        "    @font-face {\n",
        "        font-family: \"Computer Modern\";\n",
        "        src: url('http://mirrors.ctan.org/fonts/cm-unicode/fonts/otf/cmunss.otf');\n",
        "    }\n",
        "    .code_cell {\n",
        "        width: 105ex !important ;\n",
        "        margin-bottom: 15px !important;\n",
        "    }\n",
        "    div.cell {\n",
        "        margin-left: auto;\n",
        "        margin-right: auto;\n",
        "        width: 70%;\n",
        "    }    \n",
        "    div.cell.selected {\n",
        "        border: thin rgba(171, 171, 171, 0.5) dashed;\n",
        "    }\n",
        "    h1 {\n",
        "        font-family: 'Alegreya Sans', sans-serif;\n",
        "    }\n",
        "    h2 {\n",
        "        font-family: 'EB Garamond', serif;\n",
        "    }\n",
        "    h3 {\n",
        "        font-family: 'EB Garamond', serif;\n",
        "        margin-top:12px;\n",
        "        margin-bottom: 3px;\n",
        "    }\n",
        "    h4 {\n",
        "        font-family: 'EB Garamond', serif;\n",
        "    }\n",
        "    h5 {\n",
        "        font-family: 'Alegreya Sans', sans-serif;\n",
        "    }\n",
        "    div.text_cell_render {\n",
        "        font-family: 'EB Garamond',Computer Modern, \"Helvetica Neue\", Arial, Helvetica, Geneva, sans-serif;\n",
        "        line-height: 145%;\n",
        "        font-size: 140%;\n",
        "    }\n",
        "    div.input_area {\n",
        "        border-color: rgba(0,0,0,0.10) !important;\n",
        "        background: #fafafa;\n",
        "    }\n",
        "    .CodeMirror {\n",
        "            font-family: \"Source Code Pro\";\n",
        "            font-size: 90%;\n",
        "    }\n",
        "    .prompt {\n",
        "        display: None;\n",
        "    }\n",
        "    .output {\n",
        "        padding-left: 50px;\n",
        "        padding-top: 5px;\n",
        "    }\n",
        "    .output_wrapper {\n",
        "        padding-left: 5px;\n",
        "        padding-top: inherit;\n",
        "    }\n",
        "    div.output_scroll {\n",
        "        width: inherit;\n",
        "    }\n",
        "    .inner_cell {\n",
        "        padding-left: 5px;\n",
        "    }\n",
        "    .text_cell_render h1 {\n",
        "        font-weight: 200;\n",
        "        font-size: 50pt;\n",
        "        line-height: 100%;\n",
        "        color:#CD2305;\n",
        "        margin-bottom: 0.5em;\n",
        "        margin-top: 0.5em;\n",
        "        display: block;\n",
        "    }\n",
        "    .text_cell_render h5 {\n",
        "        font-weight: 300;\n",
        "        font-size: 16pt;\n",
        "        color: #CD2305;\n",
        "        font-style: italic;\n",
        "        margin-bottom: .5em;\n",
        "        margin-top: 0.5em;\n",
        "        display: block;\n",
        "    }\n",
        "    .warning {\n",
        "        color: rgb( 240, 20, 20 )\n",
        "        }  \n",
        "</style>\n",
        "<script>\n",
        "    MathJax.Hub.Config({\n",
        "                        TeX: {\n",
        "                           extensions: [\"AMSmath.js\"]\n",
        "                           },\n",
        "                tex2jax: {\n",
        "                    inlineMath: [ ['$','$'], [\"\\\\(\",\"\\\\)\"] ],\n",
        "                    displayMath: [ ['$$','$$'], [\"\\\\[\",\"\\\\]\"] ]\n",
        "                },\n",
        "                displayAlign: 'center', // Change this to 'center' to center equations.\n",
        "                \"HTML-CSS\": {\n",
        "                    styles: {'.MathJax_Display': {\"margin\": 4}}\n",
        "                }\n",
        "        });\n",
        "</script>"
       ],
       "metadata": {},
       "output_type": "pyout",
       "prompt_number": 23,
       "text": [
        "<IPython.core.display.HTML at 0x104b7bd10>"
       ]
      }
     ],
     "prompt_number": 23
    },
    {
     "cell_type": "code",
     "collapsed": false,
     "input": [
      "styles = default()"
     ],
     "language": "python",
     "metadata": {},
     "outputs": [
      {
       "ename": "NameError",
       "evalue": "name 'default' is not defined",
       "output_type": "pyerr",
       "traceback": [
        "\u001b[0;31m---------------------------------------------------------------------------\u001b[0m\n\u001b[0;31mNameError\u001b[0m                                 Traceback (most recent call last)",
        "\u001b[0;32m<ipython-input-27-8f422112d1e4>\u001b[0m in \u001b[0;36m<module>\u001b[0;34m()\u001b[0m\n\u001b[0;32m----> 1\u001b[0;31m \u001b[0mstyles\u001b[0m \u001b[0;34m=\u001b[0m \u001b[0mdefault\u001b[0m\u001b[0;34m(\u001b[0m\u001b[0;34m)\u001b[0m\u001b[0;34m\u001b[0m\u001b[0m\n\u001b[0m",
        "\u001b[0;31mNameError\u001b[0m: name 'default' is not defined"
       ]
      }
     ],
     "prompt_number": 27
    },
    {
     "cell_type": "code",
     "collapsed": false,
     "input": [],
     "language": "python",
     "metadata": {},
     "outputs": []
    }
   ],
   "metadata": {}
  }
 ]
}